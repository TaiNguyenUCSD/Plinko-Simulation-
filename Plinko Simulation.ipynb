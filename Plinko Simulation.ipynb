{
 "cells": [
  {
   "cell_type": "code",
   "execution_count": 1,
   "metadata": {},
   "outputs": [],
   "source": [
    "import random\n",
    "import numpy as np\n",
    "import matplotlib.pyplot as plt\n",
    "import scipy.stats as stats\n",
    "import math\n",
    "\n",
    "Number1 = random.randint(0,1)\n",
    "\n",
    "top= np.array(['o','o'])\n",
    "top[Number1] = 'x'\n",
    "\n",
    "Number2 = 2*Number1 + random.randint(0,1)\n",
    "\n",
    "second = np.array(['o','o','o','o'])\n",
    "second[Number2] = 'x' \n",
    "\n",
    "Number3 = 2*Number2 + random.randint(0,1)\n",
    "\n",
    "third = np.array(['o','o','o','o','o','o','o','o'])\n",
    "third[Number3] = 'x'\n",
    "\n",
    "\n",
    "\n",
    "def Plinko(NumberofLayers):\n",
    "    \n",
    "    previousNumber = 0 \n",
    "    AlltheLayers = []\n",
    "    AlltheLayers.append(['x'])\n",
    "    for i in range(2,NumberofLayers+1):\n",
    "\n",
    "        Addition = random.randint(0,1)\n",
    "        if (Addition == 0):\n",
    "            Direction = 'left'\n",
    "        elif (Addition == 1):\n",
    "            Direction = 'right'\n",
    "        # Will add on to the previous position to get the new postion\n",
    "        currentNumber = previousNumber + Addition\n",
    "        \n",
    "        # Declares an empty Layer for the currrent Layer\n",
    "        currentLayer = []\n",
    "        for k in range(0,i):\n",
    "            currentLayer.append('o')\n",
    "\n",
    "        currentLayer[currentNumber] = 'x'\n",
    "        previousNumber = currentNumber\n",
    "\n",
    "        AlltheLayers.append(currentLayer)\n",
    "        \n",
    "   \n",
    "    return(AlltheLayers)\n",
    "\n",
    "    \n",
    "    \n"
   ]
  },
  {
   "cell_type": "code",
   "execution_count": 2,
   "metadata": {},
   "outputs": [
    {
     "data": {
      "image/png": "[encoded data removed]",
      "text/plain": [
       "<Figure size 432x288 with 1 Axes>"
      ]
     },
     "metadata": {
      "needs_background": "light"
     },
     "output_type": "display_data"
    }
   ],
   "source": [
    "NumberOfLayers = 7\n",
    "Trials = 1000\n",
    "\n",
    "#PlinkoNumber represents the amount of Plinkos for each slot\n",
    "PlinkoNumber = np.zeros(NumberOfLayers)\n",
    "#Slots is a way to keep track of which of the slots correspond to which PlinkoNumber index\n",
    "#so that I can easily represent it on a bar graph\n",
    "Slots = np.zeros(NumberOfLayers)\n",
    "\n",
    "for p in range(0, NumberOfLayers):\n",
    "    Slots[p] = p \n",
    "\n",
    "for i in range(0,Trials):\n",
    "    CurrentRow = Plinko(NumberOfLayers)[NumberOfLayers-1]\n",
    "    for k in range(0,len(CurrentRow)):\n",
    "        #Most important part of the script. If there is a plinko in a certain position, \n",
    "        #It will add one to the amount of plinkos in that slot\n",
    "        if CurrentRow[k] == 'x':\n",
    "            PlinkoNumber[k] = PlinkoNumber[k] + 1\n",
    "            \n",
    "\n",
    "plt.bar(Slots,PlinkoNumber)\n",
    "plt.xlabel(\"Slot Number\")\n",
    "plt.ylabel(\"Number of Plinkos\")\n",
    "plt.show()\n",
    "\n",
    "    "
   ]
  },
  {
   "cell_type": "code",
   "execution_count": 3,
   "metadata": {},
   "outputs": [
    {
     "data": {
      "text/plain": [
       "[<matplotlib.lines.Line2D at 0x21fdaf4b220>]"
      ]
     },
     "execution_count": 3,
     "metadata": {},
     "output_type": "execute_result"
    },
    {
     "data": {
      "image/png": "[encoded data removed]",
      "text/plain": [
       "<Figure size 432x288 with 1 Axes>"
      ]
     },
     "metadata": {
      "needs_background": "light"
     },
     "output_type": "display_data"
    }
   ],
   "source": [
    "mu = 3\n",
    "variance = 1\n",
    "sigma = math.sqrt(variance)\n",
    "x = np.linspace(mu - 3*sigma, mu + 3*sigma, 5)\n",
    "plt.plot(x, stats.norm.pdf(x, mu, sigma))  "
   ]
  },
  {
   "cell_type": "code",
   "execution_count": 4,
   "metadata": {},
   "outputs": [
    {
     "data": {
      "text/plain": [
       "22"
      ]
     },
     "execution_count": 4,
     "metadata": {},
     "output_type": "execute_result"
    }
   ],
   "source": [
    "    \n",
    "class Person:\n",
    "    def __init__(self, name, age):\n",
    "        self.name = name\n",
    "        self.age = age\n",
    "        \n",
    "Oscar = Person(\"Oscar\",22)\n",
    "Tai = Person(\"Tai\",20)\n",
    "Tai.age\n",
    "Oscar.age"
   ]
  },
  {
   "cell_type": "code",
   "execution_count": 6,
   "metadata": {},
   "outputs": [
    {
     "name": "stdout",
     "output_type": "stream",
     "text": [
      "3.14244\n"
     ]
    }
   ],
   "source": []
  },
  {
   "cell_type": "code",
   "execution_count": null,
   "metadata": {},
   "outputs": [],
   "source": []
  }
 ],
 "metadata": {
  "kernelspec": {
   "display_name": "Python 3",
   "language": "python",
   "name": "python3"
  },
  "language_info": {
   "codemirror_mode": {
    "name": "ipython",
    "version": 3
   },
   "file_extension": ".py",
   "mimetype": "text/x-python",
   "name": "python",
   "nbconvert_exporter": "python",
   "pygments_lexer": "ipython3",
   "version": "3.8.3"
  }
 },
 "nbformat": 4,
 "nbformat_minor": 4
}
